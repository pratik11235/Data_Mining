{
 "cells": [
  {
   "cell_type": "markdown",
   "metadata": {},
   "source": [
    "# Programming Assignment # 4 Clustering"
   ]
  },
  {
   "cell_type": "markdown",
   "metadata": {},
   "source": [
    "## Student Details"
   ]
  },
  {
   "cell_type": "markdown",
   "metadata": {},
   "source": [
    "When submitting, fill your full name, your student ID and your NetID in this cell. Note that this is a markdown cell! \n",
    "\n",
    "Student Full Name: Pratik Chavan\n",
    "\n",
    "ID:1001963580\n",
    "\n",
    "Team Mate name 1 : Harshini Kandimalla\n",
    "\n",
    "ID:1001960046\n",
    "\n",
    "Team Mate name 2: Pratik Patekar\n",
    "\n",
    "ID:1001937948"
   ]
  },
  {
   "cell_type": "markdown",
   "metadata": {},
   "source": [
    "## Rules"
   ]
  },
  {
   "cell_type": "markdown",
   "metadata": {},
   "source": [
    "1. Work is to be done in a team\n",
    "2. Any cheating including plagiarism, cooperation will be reported to the corresponding UTA’ s instance.\n",
    "3. If using any resource (books, internet), please make sure that you cite it.\n",
    "4. Follow the given structure. Specifically, place all your tasks in THIS NOTEBOOK BUT IN SEPARATE BLOCKS. Then save this notebook as 'yourNetID_pa3.ipynb' and submit it. \n",
    "5. Do not alter the dataset name.\n",
    "6. Please dont ask any details specific to the project like \"How to plot XYZ ? What parameters are to be used? \" and so on..\n",
    "7. Report is required for this assignment. Still you need to comment your code. (-10 for no comments in the code.)\n",
    "8. Please dont send images of your visualizations to verify whether they are right or not before submission deadline.\n",
    "\n"
   ]
  },
  {
   "cell_type": "markdown",
   "metadata": {},
   "source": [
    "## Assignment Details"
   ]
  },
  {
   "cell_type": "markdown",
   "metadata": {
    "collapsed": true
   },
   "source": [
    "The purpose of this assignment is to cluster  using K-means clustering and Hierarchical Agglomerative clustering models and to visualize clusters for predicted and actual cluster labels.\n",
    "\n",
    "\n",
    "Your dataset is given as 2 files(clustering.csv and college.csv).<br>\n",
    "Output variable for clustering.csv - Class (<=50K and >50K)<br>\n",
    "Output variable for college.csv - Grad.Rate (<=50 and >50k)<br>\n",
    "\n",
    "You need to submit this ipython file after renaming it. \n",
    "\n",
    "Preprocessing will be needed for the data as most of the data is in string and needs to be quantified.\n",
    "\n"
   ]
  },
  {
   "cell_type": "code",
   "execution_count": 1,
   "metadata": {},
   "outputs": [
    {
     "data": {
      "application/javascript": [
       "IPython.OutputArea.prototype._should_scroll = function(lines) {\n",
       "    return false;\n",
       "}\n"
      ],
      "text/plain": [
       "<IPython.core.display.Javascript object>"
      ]
     },
     "metadata": {},
     "output_type": "display_data"
    }
   ],
   "source": [
    "%%javascript\n",
    "IPython.OutputArea.prototype._should_scroll = function(lines) {\n",
    "    return false;\n",
    "}"
   ]
  },
  {
   "cell_type": "markdown",
   "metadata": {},
   "source": [
    "## Required Python Packages "
   ]
  },
  {
   "cell_type": "markdown",
   "metadata": {},
   "source": [
    "# Import required Python packages here\n",
    "# Seaborn,numpy,pandas,sklearn,matplotlib only\n",
    "-20 points for the use of libraries other than the above mentioned"
   ]
  },
  {
   "cell_type": "code",
   "execution_count": 2,
   "metadata": {},
   "outputs": [],
   "source": [
    "import pandas as pd\n",
    "import numpy as np\n",
    "import seaborn as sns \n",
    "import os\n",
    "import matplotlib\n",
    "import matplotlib.pyplot as plt\n",
    "import seaborn as sns\n",
    "from numpy import *\n",
    "\n",
    "from sklearn.cluster import KMeans \n",
    "from sklearn.model_selection import train_test_split\n",
    "from sklearn.decomposition import PCA\n",
    "from sklearn import cluster\n",
    "from sklearn.metrics import classification_report,confusion_matrix\n",
    "from sklearn.cluster import AgglomerativeClustering\n",
    "from sklearn.metrics.pairwise import pairwise_distances\n",
    "from sklearn.metrics import f1_score\n",
    "from sklearn.metrics import accuracy_score "
   ]
  },
  {
   "cell_type": "markdown",
   "metadata": {},
   "source": [
    "# Importing the dataset"
   ]
  },
  {
   "cell_type": "code",
   "execution_count": 3,
   "metadata": {},
   "outputs": [
    {
     "data": {
      "text/html": [
       "<div>\n",
       "<style scoped>\n",
       "    .dataframe tbody tr th:only-of-type {\n",
       "        vertical-align: middle;\n",
       "    }\n",
       "\n",
       "    .dataframe tbody tr th {\n",
       "        vertical-align: top;\n",
       "    }\n",
       "\n",
       "    .dataframe thead th {\n",
       "        text-align: right;\n",
       "    }\n",
       "</style>\n",
       "<table border=\"1\" class=\"dataframe\">\n",
       "  <thead>\n",
       "    <tr style=\"text-align: right;\">\n",
       "      <th></th>\n",
       "      <th>Age</th>\n",
       "      <th>WorkClass</th>\n",
       "      <th>Fnlwght</th>\n",
       "      <th>Education</th>\n",
       "      <th>EducationNumber</th>\n",
       "      <th>MaritalStatus</th>\n",
       "      <th>Occupation</th>\n",
       "      <th>Relationship</th>\n",
       "      <th>Race</th>\n",
       "      <th>Sex</th>\n",
       "      <th>CapitalGain</th>\n",
       "      <th>CapitalLoss</th>\n",
       "      <th>HoursPerWeek</th>\n",
       "      <th>NativeCountry</th>\n",
       "      <th>Class</th>\n",
       "    </tr>\n",
       "  </thead>\n",
       "  <tbody>\n",
       "    <tr>\n",
       "      <th>0</th>\n",
       "      <td>39</td>\n",
       "      <td>State-gov</td>\n",
       "      <td>77516</td>\n",
       "      <td>Bachelors</td>\n",
       "      <td>13</td>\n",
       "      <td>Never-married</td>\n",
       "      <td>Adm-clerical</td>\n",
       "      <td>Not-in-family</td>\n",
       "      <td>White</td>\n",
       "      <td>Male</td>\n",
       "      <td>2174</td>\n",
       "      <td>0</td>\n",
       "      <td>40</td>\n",
       "      <td>United-States</td>\n",
       "      <td>&lt;=50K</td>\n",
       "    </tr>\n",
       "    <tr>\n",
       "      <th>1</th>\n",
       "      <td>50</td>\n",
       "      <td>Self-emp-not-inc</td>\n",
       "      <td>83311</td>\n",
       "      <td>Bachelors</td>\n",
       "      <td>13</td>\n",
       "      <td>Married-civ-spouse</td>\n",
       "      <td>Exec-managerial</td>\n",
       "      <td>Husband</td>\n",
       "      <td>White</td>\n",
       "      <td>Male</td>\n",
       "      <td>0</td>\n",
       "      <td>0</td>\n",
       "      <td>13</td>\n",
       "      <td>United-States</td>\n",
       "      <td>&lt;=50K</td>\n",
       "    </tr>\n",
       "    <tr>\n",
       "      <th>2</th>\n",
       "      <td>38</td>\n",
       "      <td>Private</td>\n",
       "      <td>215646</td>\n",
       "      <td>HS-grad</td>\n",
       "      <td>9</td>\n",
       "      <td>Divorced</td>\n",
       "      <td>Handlers-cleaners</td>\n",
       "      <td>Not-in-family</td>\n",
       "      <td>White</td>\n",
       "      <td>Male</td>\n",
       "      <td>0</td>\n",
       "      <td>0</td>\n",
       "      <td>40</td>\n",
       "      <td>United-States</td>\n",
       "      <td>&lt;=50K</td>\n",
       "    </tr>\n",
       "    <tr>\n",
       "      <th>3</th>\n",
       "      <td>53</td>\n",
       "      <td>Private</td>\n",
       "      <td>234721</td>\n",
       "      <td>11th</td>\n",
       "      <td>7</td>\n",
       "      <td>Married-civ-spouse</td>\n",
       "      <td>Handlers-cleaners</td>\n",
       "      <td>Husband</td>\n",
       "      <td>Black</td>\n",
       "      <td>Male</td>\n",
       "      <td>0</td>\n",
       "      <td>0</td>\n",
       "      <td>40</td>\n",
       "      <td>United-States</td>\n",
       "      <td>&lt;=50K</td>\n",
       "    </tr>\n",
       "    <tr>\n",
       "      <th>4</th>\n",
       "      <td>28</td>\n",
       "      <td>Private</td>\n",
       "      <td>338409</td>\n",
       "      <td>Bachelors</td>\n",
       "      <td>13</td>\n",
       "      <td>Married-civ-spouse</td>\n",
       "      <td>Prof-specialty</td>\n",
       "      <td>Wife</td>\n",
       "      <td>Black</td>\n",
       "      <td>Female</td>\n",
       "      <td>0</td>\n",
       "      <td>0</td>\n",
       "      <td>40</td>\n",
       "      <td>Cuba</td>\n",
       "      <td>&lt;=50K</td>\n",
       "    </tr>\n",
       "    <tr>\n",
       "      <th>5</th>\n",
       "      <td>37</td>\n",
       "      <td>Private</td>\n",
       "      <td>284582</td>\n",
       "      <td>Masters</td>\n",
       "      <td>14</td>\n",
       "      <td>Married-civ-spouse</td>\n",
       "      <td>Exec-managerial</td>\n",
       "      <td>Wife</td>\n",
       "      <td>White</td>\n",
       "      <td>Female</td>\n",
       "      <td>0</td>\n",
       "      <td>0</td>\n",
       "      <td>40</td>\n",
       "      <td>United-States</td>\n",
       "      <td>&lt;=50K</td>\n",
       "    </tr>\n",
       "    <tr>\n",
       "      <th>6</th>\n",
       "      <td>49</td>\n",
       "      <td>Private</td>\n",
       "      <td>160187</td>\n",
       "      <td>9th</td>\n",
       "      <td>5</td>\n",
       "      <td>Married-spouse-absent</td>\n",
       "      <td>Other-service</td>\n",
       "      <td>Not-in-family</td>\n",
       "      <td>Black</td>\n",
       "      <td>Female</td>\n",
       "      <td>0</td>\n",
       "      <td>0</td>\n",
       "      <td>16</td>\n",
       "      <td>Jamaica</td>\n",
       "      <td>&lt;=50K</td>\n",
       "    </tr>\n",
       "    <tr>\n",
       "      <th>7</th>\n",
       "      <td>52</td>\n",
       "      <td>Self-emp-not-inc</td>\n",
       "      <td>209642</td>\n",
       "      <td>HS-grad</td>\n",
       "      <td>9</td>\n",
       "      <td>Married-civ-spouse</td>\n",
       "      <td>Exec-managerial</td>\n",
       "      <td>Husband</td>\n",
       "      <td>White</td>\n",
       "      <td>Male</td>\n",
       "      <td>0</td>\n",
       "      <td>0</td>\n",
       "      <td>45</td>\n",
       "      <td>United-States</td>\n",
       "      <td>&gt;50K</td>\n",
       "    </tr>\n",
       "    <tr>\n",
       "      <th>8</th>\n",
       "      <td>31</td>\n",
       "      <td>Private</td>\n",
       "      <td>45781</td>\n",
       "      <td>Masters</td>\n",
       "      <td>14</td>\n",
       "      <td>Never-married</td>\n",
       "      <td>Prof-specialty</td>\n",
       "      <td>Not-in-family</td>\n",
       "      <td>White</td>\n",
       "      <td>Female</td>\n",
       "      <td>14084</td>\n",
       "      <td>0</td>\n",
       "      <td>50</td>\n",
       "      <td>United-States</td>\n",
       "      <td>&gt;50K</td>\n",
       "    </tr>\n",
       "    <tr>\n",
       "      <th>9</th>\n",
       "      <td>42</td>\n",
       "      <td>Private</td>\n",
       "      <td>159449</td>\n",
       "      <td>Bachelors</td>\n",
       "      <td>13</td>\n",
       "      <td>Married-civ-spouse</td>\n",
       "      <td>Exec-managerial</td>\n",
       "      <td>Husband</td>\n",
       "      <td>White</td>\n",
       "      <td>Male</td>\n",
       "      <td>5178</td>\n",
       "      <td>0</td>\n",
       "      <td>40</td>\n",
       "      <td>United-States</td>\n",
       "      <td>&gt;50K</td>\n",
       "    </tr>\n",
       "  </tbody>\n",
       "</table>\n",
       "</div>"
      ],
      "text/plain": [
       "   Age          WorkClass  Fnlwght   Education  EducationNumber  \\\n",
       "0   39          State-gov    77516   Bachelors               13   \n",
       "1   50   Self-emp-not-inc    83311   Bachelors               13   \n",
       "2   38            Private   215646     HS-grad                9   \n",
       "3   53            Private   234721        11th                7   \n",
       "4   28            Private   338409   Bachelors               13   \n",
       "5   37            Private   284582     Masters               14   \n",
       "6   49            Private   160187         9th                5   \n",
       "7   52   Self-emp-not-inc   209642     HS-grad                9   \n",
       "8   31            Private    45781     Masters               14   \n",
       "9   42            Private   159449   Bachelors               13   \n",
       "\n",
       "            MaritalStatus          Occupation    Relationship    Race  \\\n",
       "0           Never-married        Adm-clerical   Not-in-family   White   \n",
       "1      Married-civ-spouse     Exec-managerial         Husband   White   \n",
       "2                Divorced   Handlers-cleaners   Not-in-family   White   \n",
       "3      Married-civ-spouse   Handlers-cleaners         Husband   Black   \n",
       "4      Married-civ-spouse      Prof-specialty            Wife   Black   \n",
       "5      Married-civ-spouse     Exec-managerial            Wife   White   \n",
       "6   Married-spouse-absent       Other-service   Not-in-family   Black   \n",
       "7      Married-civ-spouse     Exec-managerial         Husband   White   \n",
       "8           Never-married      Prof-specialty   Not-in-family   White   \n",
       "9      Married-civ-spouse     Exec-managerial         Husband   White   \n",
       "\n",
       "       Sex  CapitalGain  CapitalLoss  HoursPerWeek   NativeCountry   Class  \n",
       "0     Male         2174            0            40   United-States   <=50K  \n",
       "1     Male            0            0            13   United-States   <=50K  \n",
       "2     Male            0            0            40   United-States   <=50K  \n",
       "3     Male            0            0            40   United-States   <=50K  \n",
       "4   Female            0            0            40            Cuba   <=50K  \n",
       "5   Female            0            0            40   United-States   <=50K  \n",
       "6   Female            0            0            16         Jamaica   <=50K  \n",
       "7     Male            0            0            45   United-States    >50K  \n",
       "8   Female        14084            0            50   United-States    >50K  \n",
       "9     Male         5178            0            40   United-States    >50K  "
      ]
     },
     "execution_count": 3,
     "metadata": {},
     "output_type": "execute_result"
    }
   ],
   "source": [
    "dataset = pd.read_csv(\"clusteringdata.csv\")\n",
    "dataset.head(10)"
   ]
  },
  {
   "cell_type": "markdown",
   "metadata": {},
   "source": [
    "# Preprocessing"
   ]
  },
  {
   "cell_type": "code",
   "execution_count": 4,
   "metadata": {},
   "outputs": [
    {
     "name": "stdout",
     "output_type": "stream",
     "text": [
      "Duplicates in the Dataset\n",
      "1\n",
      "Duplicates after droping duplicates\n",
      "0\n"
     ]
    }
   ],
   "source": [
    "# There are missing values and duplicates in the dataset so we need to deal with them before wo start.\n",
    "print(\"Duplicates in the Dataset\")\n",
    "print(dataset.duplicated().sum())\n",
    "#We have 1 duplicate values so we have remove it.\n",
    "dataset = dataset.drop_duplicates()\n",
    "print(\"Duplicates after droping duplicates\")\n",
    "print(dataset.duplicated().sum())\n",
    "\n",
    "#Checking for null values in dataset\n",
    "dataset.isnull().sum(axis = 0)\n",
    "\n",
    "# We have \"?\" values in the dataset rows so we are going to remove them\n",
    "dataset = dataset[dataset.WorkClass != ' ?']\n",
    "dataset = dataset[dataset.Occupation != ' ?']\n",
    "dataset = dataset[dataset.NativeCountry != ' ?']"
   ]
  },
  {
   "cell_type": "code",
   "execution_count": 5,
   "metadata": {},
   "outputs": [
    {
     "data": {
      "text/html": [
       "<div>\n",
       "<style scoped>\n",
       "    .dataframe tbody tr th:only-of-type {\n",
       "        vertical-align: middle;\n",
       "    }\n",
       "\n",
       "    .dataframe tbody tr th {\n",
       "        vertical-align: top;\n",
       "    }\n",
       "\n",
       "    .dataframe thead th {\n",
       "        text-align: right;\n",
       "    }\n",
       "</style>\n",
       "<table border=\"1\" class=\"dataframe\">\n",
       "  <thead>\n",
       "    <tr style=\"text-align: right;\">\n",
       "      <th></th>\n",
       "      <th>Age</th>\n",
       "      <th>WorkClass</th>\n",
       "      <th>Fnlwght</th>\n",
       "      <th>Education</th>\n",
       "      <th>EducationNumber</th>\n",
       "      <th>MaritalStatus</th>\n",
       "      <th>Occupation</th>\n",
       "      <th>Relationship</th>\n",
       "      <th>Race</th>\n",
       "      <th>Sex</th>\n",
       "      <th>CapitalGain</th>\n",
       "      <th>CapitalLoss</th>\n",
       "      <th>HoursPerWeek</th>\n",
       "      <th>NativeCountry</th>\n",
       "      <th>Class</th>\n",
       "    </tr>\n",
       "  </thead>\n",
       "  <tbody>\n",
       "    <tr>\n",
       "      <th>0</th>\n",
       "      <td>39</td>\n",
       "      <td>5</td>\n",
       "      <td>77516</td>\n",
       "      <td>9</td>\n",
       "      <td>13</td>\n",
       "      <td>4</td>\n",
       "      <td>0</td>\n",
       "      <td>1</td>\n",
       "      <td>4</td>\n",
       "      <td>1</td>\n",
       "      <td>2174</td>\n",
       "      <td>0</td>\n",
       "      <td>40</td>\n",
       "      <td>36</td>\n",
       "      <td>0</td>\n",
       "    </tr>\n",
       "    <tr>\n",
       "      <th>1</th>\n",
       "      <td>50</td>\n",
       "      <td>4</td>\n",
       "      <td>83311</td>\n",
       "      <td>9</td>\n",
       "      <td>13</td>\n",
       "      <td>2</td>\n",
       "      <td>3</td>\n",
       "      <td>0</td>\n",
       "      <td>4</td>\n",
       "      <td>1</td>\n",
       "      <td>0</td>\n",
       "      <td>0</td>\n",
       "      <td>13</td>\n",
       "      <td>36</td>\n",
       "      <td>0</td>\n",
       "    </tr>\n",
       "    <tr>\n",
       "      <th>2</th>\n",
       "      <td>38</td>\n",
       "      <td>2</td>\n",
       "      <td>215646</td>\n",
       "      <td>11</td>\n",
       "      <td>9</td>\n",
       "      <td>0</td>\n",
       "      <td>5</td>\n",
       "      <td>1</td>\n",
       "      <td>4</td>\n",
       "      <td>1</td>\n",
       "      <td>0</td>\n",
       "      <td>0</td>\n",
       "      <td>40</td>\n",
       "      <td>36</td>\n",
       "      <td>0</td>\n",
       "    </tr>\n",
       "    <tr>\n",
       "      <th>3</th>\n",
       "      <td>53</td>\n",
       "      <td>2</td>\n",
       "      <td>234721</td>\n",
       "      <td>1</td>\n",
       "      <td>7</td>\n",
       "      <td>2</td>\n",
       "      <td>5</td>\n",
       "      <td>0</td>\n",
       "      <td>2</td>\n",
       "      <td>1</td>\n",
       "      <td>0</td>\n",
       "      <td>0</td>\n",
       "      <td>40</td>\n",
       "      <td>36</td>\n",
       "      <td>0</td>\n",
       "    </tr>\n",
       "    <tr>\n",
       "      <th>4</th>\n",
       "      <td>28</td>\n",
       "      <td>2</td>\n",
       "      <td>338409</td>\n",
       "      <td>9</td>\n",
       "      <td>13</td>\n",
       "      <td>2</td>\n",
       "      <td>9</td>\n",
       "      <td>5</td>\n",
       "      <td>2</td>\n",
       "      <td>0</td>\n",
       "      <td>0</td>\n",
       "      <td>0</td>\n",
       "      <td>40</td>\n",
       "      <td>4</td>\n",
       "      <td>0</td>\n",
       "    </tr>\n",
       "  </tbody>\n",
       "</table>\n",
       "</div>"
      ],
      "text/plain": [
       "   Age  WorkClass  Fnlwght  Education  EducationNumber  MaritalStatus  \\\n",
       "0   39          5    77516          9               13              4   \n",
       "1   50          4    83311          9               13              2   \n",
       "2   38          2   215646         11                9              0   \n",
       "3   53          2   234721          1                7              2   \n",
       "4   28          2   338409          9               13              2   \n",
       "\n",
       "   Occupation  Relationship  Race  Sex  CapitalGain  CapitalLoss  \\\n",
       "0           0             1     4    1         2174            0   \n",
       "1           3             0     4    1            0            0   \n",
       "2           5             1     4    1            0            0   \n",
       "3           5             0     2    1            0            0   \n",
       "4           9             5     2    0            0            0   \n",
       "\n",
       "   HoursPerWeek  NativeCountry  Class  \n",
       "0            40             36      0  \n",
       "1            13             36      0  \n",
       "2            40             36      0  \n",
       "3            40             36      0  \n",
       "4            40              4      0  "
      ]
     },
     "execution_count": 5,
     "metadata": {},
     "output_type": "execute_result"
    }
   ],
   "source": [
    "#Output variable for clustering.csv - Class (<=50K and >50K)\n",
    "from sklearn.preprocessing import LabelEncoder\n",
    "dataset['Class'] = dataset['Class'].map({' <=50K':0, ' >50K':1})\n",
    "\n",
    "#Changing the Categorical Values to Numerical values\n",
    "features = list(dataset.select_dtypes(include=['object']).columns)\n",
    "le_feat = {}\n",
    "\n",
    "for i, feature in enumerate(features):\n",
    "    #Converting labesl into numeric forms\n",
    "    le_feat[feature] = LabelEncoder() \n",
    "    #fitting the dataset\n",
    "    dataset[feature] = le_feat[feature].fit_transform(dataset[feature])\n",
    "dataset.head()"
   ]
  },
  {
   "cell_type": "markdown",
   "metadata": {},
   "source": [
    "## TASK 1: K-Means Clustering"
   ]
  },
  {
   "cell_type": "markdown",
   "metadata": {},
   "source": [
    "### Task 1-a: Determine “k” value from the elbow method"
   ]
  },
  {
   "cell_type": "markdown",
   "metadata": {},
   "source": [
    "In this task, you will be using the elbow method to determine the optimal number of clusters for k-means clustering.\n",
    "\n",
    "We need some way to determine whether we are using the right number of clusters when using k-means clustering. One method to validate the number of clusters is the elbow method. \n",
    "\n",
    "The idea of the elbow method is to run k-means clustering on the dataset for a range of values of k (k will be from 1 to 10 in this task), and for each value of k calculate the sum of squared errors (SSE). Then, plot a line chart of the SSE for each value of k. If the line chart looks like an arm, then the \"elbow\" on the arm is the value of k that is the best. The idea is that we want a small SSE, but that the SSE tends to decrease toward 0 as we increase k (the SSE is 0 when k is equal to the number of data points in the dataset, because then each data point is a cluster, and there is no error between it and the center of its cluster). So our goal is to choose a small value of k that still has a low SSE, and the elbow usually represents where we start to have diminishing returns by increasing k.\n",
    "\n",
    "For this task, you need to perform the elbow method for k from 1 to 10 and plot a line chart of the SSE for each value of k, and determine the best k (the number of clusters). Note that you need to use the whole dataset in this task and you need to print your decision for k."
   ]
  },
  {
   "cell_type": "code",
   "execution_count": 6,
   "metadata": {
    "scrolled": true
   },
   "outputs": [
    {
     "data": {
      "image/png": "[encoded data removed]",
      "text/plain": [
       "<Figure size 432x288 with 1 Axes>"
      ]
     },
     "metadata": {
      "needs_background": "light"
     },
     "output_type": "display_data"
    }
   ],
   "source": [
    "#########################begin code for Task 1-a\n",
    "sse = {}\n",
    "\n",
    "for k in range(1, 11):     \n",
    "    kmeansModel = KMeans(n_clusters=k, random_state=2022)     \n",
    "    kmeansModel.fit(dataset)     \n",
    "    sse[k] = kmeansModel.inertia_ \n",
    "\n",
    "    \n",
    "plt.title('K Value using Elbow Method') \n",
    "plt.xlabel('K'); \n",
    "plt.ylabel('Squared errors') \n",
    "\n",
    "sns.pointplot(x=list(sse.keys()), y=list(sse.values())) \n",
    "plt.show() \n",
    "#########################begin code for Task 1-a\n"
   ]
  },
  {
   "cell_type": "markdown",
   "metadata": {},
   "source": [
    "# We have to use the value at the elbow of the graph to get the best k values.\n",
    "# So by observing the graph we can say that K is 3\n"
   ]
  },
  {
   "cell_type": "markdown",
   "metadata": {},
   "source": [
    "### Task 1-b: Visualization for K-Means Clustering"
   ]
  },
  {
   "cell_type": "markdown",
   "metadata": {},
   "source": [
    "In this task, you will be performing k-means clustering for k=2 and visualize the predicted training samples and actual training samples on scatter plots. Use 70% of the dataset for training and 30% of the dataset for testing. Perform kmeans for clustering samples in your training set. \n",
    "\n",
    "Use two subplots for visualizing the predicted training samples and actual training samples on two scatter plots.\n",
    "\n",
    "Since your dataset has multiple features(dimensions), you won't be able to plot your data on a scatter plot. Thus, you’re going to visualize your data with the help of one of the Dimensionality Reduction techniques, namely Principal Component Analysis (PCA). The idea in PCA is to find a linear combination of the two variables that contains most of the information. This new variable or “principal component” can replace the two original variables. You can easily apply PCA to your data with the help of scikit-learn.\n",
    "\n"
   ]
  },
  {
   "cell_type": "code",
   "execution_count": 7,
   "metadata": {},
   "outputs": [],
   "source": [
    "###################begin code for Task 1-b-1: Split the dataset 70% for training and 30% for testing\n",
    "# random state = 2022\n",
    "### Important!!!\n",
    "\n",
    "# Storing all columns except Class in X\n",
    "X = dataset.drop(columns = ['Class'])\n",
    "\n",
    "# storing the column Class in Y\n",
    "Y = dataset['Class']\n",
    "\n",
    "X_train, X_test, Y_train, Y_test = train_test_split(X, Y, test_size = 0.3,random_state = 2022)\n",
    "\n",
    "###################end code for Task 1-b-1"
   ]
  },
  {
   "cell_type": "code",
   "execution_count": 8,
   "metadata": {},
   "outputs": [
    {
     "data": {
      "image/png": "[encoded data removed]",
      "text/plain": [
       "<Figure size 432x288 with 1 Axes>"
      ]
     },
     "metadata": {
      "needs_background": "light"
     },
     "output_type": "display_data"
    },
    {
     "data": {
      "image/png": "[encoded data removed]",
      "text/plain": [
       "<Figure size 432x288 with 1 Axes>"
      ]
     },
     "metadata": {
      "needs_background": "light"
     },
     "output_type": "display_data"
    }
   ],
   "source": [
    "\n",
    "###################begin code for Task 1-b-2: Visualize the predicted training labels vs actual training labels\n",
    "\n",
    "# Import PCA\n",
    "from sklearn.decomposition import PCA\n",
    "\n",
    "# Create the KMeans model\n",
    "kmeansModel = KMeans(n_clusters= 2)\n",
    "kmeansModel.fit(X_train, Y_train)\n",
    "\n",
    "# Compute cluster centers and predict cluster index for each sample \n",
    "clusters_centers = kmeansModel.fit_predict(X_train)\n",
    "\n",
    "# Model and fit the data to the PCA model\n",
    "pca = PCA()\n",
    "X_train_pca = pca.fit_transform(X_train)\n",
    "\n",
    "# Visualize the predicted training labels vs actual training labels. \n",
    "### scatter(x, y, your_data)\n",
    "x = X_train_pca[:, 0]\n",
    "y = X_train_pca[:, 1]\n",
    "\n",
    "colors = ['red', 'black']\n",
    "plt.title(\"Predicted training labels\")\n",
    "plt.scatter(x,y,c=clusters_centers,cmap=matplotlib.colors.ListedColormap(colors))\n",
    "plt.show()\n",
    "\n",
    "plt.title(\"Actual training labels\")\n",
    "plt.scatter(x,y,c=Y_train,cmap=matplotlib.colors.ListedColormap(colors))\n",
    "plt.show()\n",
    "\n",
    "\n",
    "###################end code for Task 1-b-2\n"
   ]
  },
  {
   "cell_type": "markdown",
   "metadata": {},
   "source": [
    "Now, you need to visualize the predicted testing labels versus actual testing labels. Use the trained model in previous step."
   ]
  },
  {
   "cell_type": "code",
   "execution_count": 9,
   "metadata": {},
   "outputs": [
    {
     "data": {
      "image/png": "[encoded data removed]",
      "text/plain": [
       "<Figure size 432x288 with 1 Axes>"
      ]
     },
     "metadata": {
      "needs_background": "light"
     },
     "output_type": "display_data"
    },
    {
     "data": {
      "image/png": "[encoded data removed]",
      "text/plain": [
       "<Figure size 432x288 with 1 Axes>"
      ]
     },
     "metadata": {
      "needs_background": "light"
     },
     "output_type": "display_data"
    }
   ],
   "source": [
    "###################begin code for Task 1-b-3: Visualize the predicted testing labels vs actual testing labels\n",
    "# predict cluster index for each sample \n",
    "cluster_testing = kmeansModel.fit_predict(X_test)\n",
    "\n",
    "# Model and fit the data to the PCA model\n",
    "X_test_pca = PCA(n_components=2).fit_transform(X_test)\n",
    "\n",
    "# Visualize the predicted testing labels vs actual testing labels. \n",
    "x = X_test_pca[:, 0]\n",
    "y = X_test_pca[:, 1]\n",
    "### scatter(x, y, your_data)\n",
    "\n",
    "plt.title(\"Predicted training labels\")\n",
    "plt.scatter(x,y,c=cluster_testing,cmap=matplotlib.colors.ListedColormap(colors))\n",
    "plt.show()\n",
    "\n",
    "plt.title(\"Actual training labels\")\n",
    "plt.scatter(x,y,c=Y_test,cmap=matplotlib.colors.ListedColormap(colors))\n",
    "plt.show()\n",
    "###################end code for Task 1-b-3"
   ]
  },
  {
   "cell_type": "markdown",
   "metadata": {},
   "source": [
    "In this step, you need to provide the evaluation of your clustering model. Print out a confusion matrix."
   ]
  },
  {
   "cell_type": "code",
   "execution_count": 34,
   "metadata": {},
   "outputs": [
    {
     "name": "stdout",
     "output_type": "stream",
     "text": [
      "Confusion Matrix:\n",
      " [[702 308]\n",
      " [278  86]] \n",
      "\n"
     ]
    }
   ],
   "source": [
    "###################begin code for Task 1-b-4: Print out a confusion matrix\n",
    "Y_prediction = kmeansModel.predict(X_test)\n",
    "print(\"Confusion Matrix:\\n\",confusion_matrix(Y_test,Y_prediction),'\\n')\n",
    "###################end code for Task 1-b-4"
   ]
  },
  {
   "cell_type": "markdown",
   "metadata": {},
   "source": [
    "# TASK 2: Hierarchical Agglomerative  Clustering"
   ]
  },
  {
   "cell_type": "markdown",
   "metadata": {},
   "source": [
    "## Task 2-a: Find the best Hierarchical Agglomerative Clustering Model"
   ]
  },
  {
   "cell_type": "markdown",
   "metadata": {},
   "source": [
    "In this task, you will be performing Hierarchical Agglomerative clustering with different linkage methods (complete and average) and different similarity measures (cosine, euclidean, and manhattan) in order to find the best pair of linkage method and similarity measure. Use F1 score for evaluation and take n_clusters = 2.\n"
   ]
  },
  {
   "cell_type": "code",
   "execution_count": 11,
   "metadata": {},
   "outputs": [
    {
     "name": "stdout",
     "output_type": "stream",
     "text": [
      "[[     0.          98437.00161525  33544.00403947 ... 140287.00528203\n",
      "  119351.00105571 131412.00140398]\n",
      " [ 98437.00161525      0.          64893.00575563 ...  41850.03189963\n",
      "   20914.01553982  32975.0085671 ]\n",
      " [ 33544.00403947  64893.00575563      0.         ... 106743.00385505\n",
      "   85807.00008741  97868.00173703]\n",
      " ...\n",
      " [140287.00528203  41850.03189963 106743.00385505 ...      0.\n",
      "   20936.02025219   8875.1130697 ]\n",
      " [119351.00105571  20914.01553982  85807.00008741 ...  20936.02025219\n",
      "       0.          12061.01587761]\n",
      " [131412.00140398  32975.0085671   97868.00173703 ...   8875.1130697\n",
      "   12061.01587761      0.        ]]\n",
      "****************************************************************************************************\n",
      "F1-score for complete linkage + cosine 0.39187155042649274\n",
      "F1-score for complete linkage + euclidean 0.009876543209876543\n",
      "F1-score for complete linkage + manhattan 0.007490636704119849\n",
      "F1-score for average linkage + cosine 0.39066030630178256\n",
      "F1-score for average linkage + euclidean 0.0\n",
      "F1-score for average linkage + manhattan 0.0\n"
     ]
    }
   ],
   "source": [
    "###################begin code for Task 2-a: Print out a confusion matrix\n",
    "# Import AgglomerativeClustering\n",
    "from sklearn.cluster import AgglomerativeClustering\n",
    "# Import pairwise_distances for calculating pairwise distance matrix\n",
    "from sklearn.metrics.pairwise import pairwise_distances\n",
    "# Import f1_score\n",
    "from sklearn.metrics import f1_score\n",
    "\n",
    "\n",
    "## Calculate pairwise distance matrix for X_train\n",
    "pdm_train = pairwise_distances(X_train)\n",
    "print(pdm_train)\n",
    "\n",
    "## Model and fit the training data to the AgglomerativeClustering model\n",
    "## complete linkage + cosine\n",
    "complete_cosine = AgglomerativeClustering(n_clusters=2, affinity='cosine', linkage=\"complete\")\n",
    "prediction1 = complete_cosine.fit_predict(X_train)\n",
    "\n",
    "## Model and fit the training data to the AgglomerativeClustering model\n",
    "## complete linkage + euclidean\n",
    "complete_euclidean = AgglomerativeClustering(n_clusters=2, affinity='euclidean', linkage=\"complete\")\n",
    "prediction2 = complete_euclidean.fit_predict(X_train)\n",
    "\n",
    "## Model and fit the training data to the AgglomerativeClustering model\n",
    "## complete linkage + manhattan\n",
    "complete_manhattan = AgglomerativeClustering(n_clusters=2, affinity='manhattan', linkage=\"complete\")\n",
    "prediction3 = complete_manhattan.fit_predict(X_train)\n",
    "\n",
    "## Model and fit the training data to the AgglomerativeClustering model\n",
    "## average linkage + cosine\n",
    "average_cosine = AgglomerativeClustering(n_clusters=2, affinity='cosine', linkage=\"average\")\n",
    "prediction4 = average_cosine.fit_predict(X_train)\n",
    "\n",
    "## Model and fit the training data to the AgglomerativeClustering model\n",
    "## average linkage + euclidean\n",
    "average_euclidean = AgglomerativeClustering(n_clusters=2, affinity='euclidean', linkage=\"average\")\n",
    "prediction5 = average_euclidean.fit_predict(X_train)\n",
    "\n",
    "## Model and fit the training data to the AgglomerativeClustering model\n",
    "## average linkage + manhattan\n",
    "average_manhattan = AgglomerativeClustering(n_clusters=2, affinity='manhattan', linkage=\"average\")\n",
    "prediction6 = average_manhattan.fit_predict(X_train)\n",
    "\n",
    "print(\"*\"*100)\n",
    "print(\"F1-score for complete linkage + cosine\",f1_score(Y_train, prediction1))\n",
    "print(\"F1-score for complete linkage + euclidean\", f1_score(Y_train, prediction2))\n",
    "print(\"F1-score for complete linkage + manhattan\",f1_score(Y_train, prediction3))\n",
    "print(\"F1-score for average linkage + cosine\", f1_score(Y_train, prediction4))\n",
    "print(\"F1-score for average linkage + euclidean\", f1_score(Y_train, prediction5))\n",
    "print(\"F1-score for average linkage + manhattan\", f1_score(Y_train, prediction6))\n",
    "\n",
    "\n",
    "###################end code for Task 2-a"
   ]
  },
  {
   "cell_type": "markdown",
   "metadata": {},
   "source": [
    "## Task 2-b:  Visualization for Hierarchical Agglomerative Clustering"
   ]
  },
  {
   "cell_type": "markdown",
   "metadata": {},
   "source": [
    "Find the best performed model from the previous step and use that model for visualizing the predicted training samples and actual training samples on scatter plots. Use PCA model for visualizing your data (use X_train_pca from Task 1-b-2). "
   ]
  },
  {
   "cell_type": "markdown",
   "metadata": {},
   "source": [
    "# The best model here is euclidean complete."
   ]
  },
  {
   "cell_type": "code",
   "execution_count": 12,
   "metadata": {},
   "outputs": [
    {
     "data": {
      "image/png": "[encoded data removed]",
      "text/plain": [
       "<Figure size 432x288 with 1 Axes>"
      ]
     },
     "metadata": {
      "needs_background": "light"
     },
     "output_type": "display_data"
    },
    {
     "data": {
      "image/png": "[encoded data removed]",
      "text/plain": [
       "<Figure size 432x288 with 1 Axes>"
      ]
     },
     "metadata": {
      "needs_background": "light"
     },
     "output_type": "display_data"
    }
   ],
   "source": [
    "###################begin code for Task 2-b: Visualize the predicted training labels vs actual training labels\n",
    "# Model and fit the data to the PCA model\n",
    "\n",
    "X_train_pca = pca.fit_transform(X_train)\n",
    "\n",
    "# Visualize the predicted training labels vs actual training labels. \n",
    "# scatter(x, y, your_data)\n",
    "x = X_train_pca[:, 0]\n",
    "y = X_train_pca[:, 1]\n",
    "\n",
    "# Plotting the euclidean complete since it is the best model\n",
    "plt.scatter(x,y,c=prediction2,cmap=matplotlib.colors.ListedColormap(colors))\n",
    "plt.title(\"Predicted training labels\")\n",
    "plt.show()\n",
    "\n",
    "# plotting the Actual Training data\n",
    "plt.scatter(x,y,c=Y_train, cmap=matplotlib.colors.ListedColormap(colors))\n",
    "plt.title(\"Actual training labels\")\n",
    "plt.show()\n",
    "\n",
    "###################end code for Task 2-b"
   ]
  },
  {
   "cell_type": "markdown",
   "metadata": {},
   "source": [
    "# TASK 3:  Compare K-Means Clustering and Hierarchical Agglomerative Clustering"
   ]
  },
  {
   "cell_type": "markdown",
   "metadata": {},
   "source": [
    "## Task 3-a: Visualize Clusters "
   ]
  },
  {
   "cell_type": "markdown",
   "metadata": {},
   "source": [
    "In this task, use whole dataset for training k-means cluster and hierarchical agglomerative clustering. Use the best model for agglomerative clustering. Visualize the predicted labels from k-means clustering and agglomerative clustering versus actual labels. Basically, you need to plot three scatter plots as subplots. "
   ]
  },
  {
   "cell_type": "code",
   "execution_count": 13,
   "metadata": {
    "scrolled": false
   },
   "outputs": [
    {
     "name": "stdout",
     "output_type": "stream",
     "text": [
      "F1-score for complete linkage + cosine 0.008598452278589854\n",
      "F1-score for complete linkage + euclidean 0.005128205128205128\n",
      "F1-score for complete linkage + manhattan 0.005128205128205128\n",
      "F1-score for average linkage + cosine 0.3979002624671916\n",
      "F1-score for average linkage + euclidean 0.0\n",
      "F1-score for average linkage + manhattan 0.0\n"
     ]
    }
   ],
   "source": [
    "## Model and fit the training data to the AgglomerativeClustering model\n",
    "## complete linkage + cosine\n",
    "X = dataset[dataset.columns[:-1]]\n",
    "Y = dataset[dataset.columns[-1]]\n",
    "complete_cosine = AgglomerativeClustering(n_clusters=2, affinity='cosine', linkage=\"complete\")\n",
    "pred1 = complete_cosine.fit_predict(X)\n",
    "\n",
    "\n",
    "## Model and fit the training data to the AgglomerativeClustering model\n",
    "## complete linkage + euclidean\n",
    "complete_euclidean = AgglomerativeClustering(n_clusters=2, affinity='euclidean', linkage=\"complete\")\n",
    "pred2 = complete_euclidean.fit_predict(X)\n",
    "\n",
    "## Model and fit the training data to the AgglomerativeClustering model\n",
    "## complete linkage + manhattan\n",
    "complete_manhattan = AgglomerativeClustering(n_clusters=2, affinity='manhattan', linkage=\"complete\")\n",
    "pred3 = complete_manhattan.fit_predict(X)\n",
    "\n",
    "## Model and fit the training data to the AgglomerativeClustering model\n",
    "## average linkage + cosine\n",
    "average_cosine = AgglomerativeClustering(n_clusters=2, affinity='cosine', linkage=\"average\")\n",
    "pred4 = average_cosine.fit_predict(X)\n",
    "\n",
    "## Model and fit the training data to the AgglomerativeClustering model\n",
    "## average linkage + euclidean\n",
    "average_euclidean = AgglomerativeClustering(n_clusters=2, affinity='euclidean', linkage=\"average\")\n",
    "pred5 = average_euclidean.fit_predict(X)\n",
    "\n",
    "## Model and fit the training data to the AgglomerativeClustering model\n",
    "## average linkage + manhattan\n",
    "average_manhattan = AgglomerativeClustering(n_clusters=2, affinity='manhattan', linkage=\"average\")\n",
    "pred6 = average_manhattan.fit_predict(X)\n",
    "\n",
    "print(\"F1-score for complete linkage + cosine\",f1_score(Y, pred1))\n",
    "print(\"F1-score for complete linkage + euclidean\", f1_score(Y, pred2))\n",
    "print(\"F1-score for complete linkage + manhattan\",f1_score(Y, pred3))\n",
    "print(\"F1-score for average linkage + cosine\", f1_score(Y, pred4))\n",
    "print(\"F1-score for average linkage + euclidean\", f1_score(Y, pred5))\n",
    "print(\"F1-score for average linkage + manhattan\", f1_score(Y, pred6))"
   ]
  },
  {
   "cell_type": "code",
   "execution_count": 17,
   "metadata": {},
   "outputs": [
    {
     "data": {
      "image/png": "[encoded data removed]",
      "text/plain": [
       "<Figure size 432x288 with 1 Axes>"
      ]
     },
     "metadata": {
      "needs_background": "light"
     },
     "output_type": "display_data"
    },
    {
     "data": {
      "image/png": "[encoded data removed]",
      "text/plain": [
       "<Figure size 432x288 with 1 Axes>"
      ]
     },
     "metadata": {
      "needs_background": "light"
     },
     "output_type": "display_data"
    },
    {
     "data": {
      "image/png": "[encoded data removed]",
      "text/plain": [
       "<Figure size 432x288 with 1 Axes>"
      ]
     },
     "metadata": {
      "needs_background": "light"
     },
     "output_type": "display_data"
    }
   ],
   "source": [
    "###################begin code for Task 3-a: Visualize the predicted training labels vs actual training labels\n",
    "\n",
    "### Kmeans Clustering\n",
    "# Model and fit the data to the Kmeans (use fit_predict : Performs clustering on X and returns cluster labels.)\n",
    "\n",
    "kmeans_prediction = kmeansModel.fit_predict(X)\n",
    "\n",
    "### Agglomerative Clustering\n",
    "# Calculate pairwise distance matrix for X\n",
    "pdm_train = pairwise_distances(X)\n",
    "\n",
    "# Model and fit the data to the Agglomerative (use fit_predict : Performs clustering on X and returns cluster labels.)\n",
    "Agg_clustering = AgglomerativeClustering(n_clusters=2)\n",
    "Agg_prediction = Agg_clustering.fit_predict(X)\n",
    "\n",
    "### Visualize Clusters\n",
    "#  Model and fit the data to the PCA model\n",
    "X_pca = pca.fit_transform(X)\n",
    "\n",
    "# Visualize the predicted Kmeans labels versus  the predicted Agglomerative labels versus Actual labels. \n",
    "# Adjust layout\n",
    "x = X_pca[:, 0]\n",
    "y = X_pca[:, 1]\n",
    "\n",
    "#Plotting the scatter plot for predicted training label using kmeans clustering\n",
    "plt.scatter(x,y,c=kmeans_prediction, cmap=matplotlib.colors.ListedColormap(colors))\n",
    "plt.title(\"Predicted kmeans labels\")\n",
    "plt.show()\n",
    "\n",
    "#Plotting the scatter plot for predicted training label using Agglomerative clustering \n",
    "plt.scatter(x,y,c=pred4, cmap=matplotlib.colors.ListedColormap(colors))\n",
    "plt.title(\"Predicted Agglomerative labels\")\n",
    "plt.show()\n",
    "\n",
    "#Plotting the scatter plot for test\n",
    "plt.title(\"Actual Labels\")\n",
    "plt.scatter(x,y,c=y,cmap=matplotlib.colors.ListedColormap(colors))\n",
    "plt.show()\n",
    "\n",
    "###################end code for Task 3-a"
   ]
  },
  {
   "cell_type": "markdown",
   "metadata": {},
   "source": [
    "## Task 3-b: Compare K-Means Clustering &  Hierarchical Agglomerative Clustering"
   ]
  },
  {
   "cell_type": "markdown",
   "metadata": {},
   "source": [
    "Print out confusion matrices for kmeans and agglomerative clustering. Also, compare precision, recall, and F1-score for both model. Type your reasoning."
   ]
  },
  {
   "cell_type": "code",
   "execution_count": 31,
   "metadata": {
    "scrolled": false
   },
   "outputs": [
    {
     "name": "stdout",
     "output_type": "stream",
     "text": [
      "Kmeans: Accuracy is: 59.03035597291986 \n",
      "\n",
      "Agglomerative clustering: Accuracy is: 68.37737497270146 \n",
      "\n",
      "Confusion Matrix Kmeans: \n",
      " [[2412 1009]\n",
      " [ 867  291]] \n",
      "\n",
      "Confusion Matrix Agglomerative: \n",
      " [[2990  431]\n",
      " [1017  141]] \n",
      "\n",
      "Classification Report Kmeans: \n",
      "               precision    recall  f1-score   support\n",
      "\n",
      "           0       0.74      0.71      0.72      3421\n",
      "           1       0.22      0.25      0.24      1158\n",
      "\n",
      "    accuracy                           0.59      4579\n",
      "   macro avg       0.48      0.48      0.48      4579\n",
      "weighted avg       0.61      0.59      0.60      4579\n",
      "\n",
      "Classification Report Agglomerative: \n",
      "               precision    recall  f1-score   support\n",
      "\n",
      "           0       0.75      0.87      0.81      3421\n",
      "           1       0.25      0.12      0.16      1158\n",
      "\n",
      "    accuracy                           0.68      4579\n",
      "   macro avg       0.50      0.50      0.48      4579\n",
      "weighted avg       0.62      0.68      0.64      4579\n",
      "\n",
      "The Agglomerative Clustering has greater weighted avg precision and was able to identify more number of actual positive cases\n",
      "Also the Agglomerative clustering had 0.64 weighted avg f1-score which is more than the Kmeans clustering which is 0.60\n",
      "So we can conclude that Agglomerative clustering performs better \n"
     ]
    }
   ],
   "source": [
    "###################begin code for Task 3-b\n",
    "\n",
    "Y_prediction_kmeans = kmeansModel.predict(X)\n",
    "Y_prediction_Agg = Agg_clustering.fit_predict(X)\n",
    "\n",
    "\n",
    "print(\"Kmeans: Accuracy is:\", accuracy_score(Y,Y_prediction_kmeans)*100,\"\\n\")\n",
    "print(\"Agglomerative clustering: Accuracy is:\", accuracy_score(Y,Y_prediction_Agg)*100,\"\\n\")\n",
    "\n",
    "\n",
    "print(\"Confusion Matrix Kmeans: \\n\",confusion_matrix(Y,Y_prediction_kmeans),'\\n')\n",
    "print(\"Confusion Matrix Agglomerative: \\n\",confusion_matrix(Y,Y_prediction_Agg),'\\n')\n",
    "\n",
    "\n",
    "print(\"Classification Report Kmeans: \\n\",classification_report(Y,Y_prediction_kmeans))\n",
    "print(\"Classification Report Agglomerative: \\n\",classification_report(Y,Y_prediction_Agg))\n",
    "\n",
    "print(\"The Agglomerative Clustering has greater weighted avg precision and was able to identify more number of actual positive cases\")\n",
    "print(\"Also the Agglomerative clustering had 0.64 weighted avg f1-score which is more than the Kmeans clustering which is 0.60\")\n",
    "print(\"So we can conclude that Agglomerative clustering performs better \")\n",
    "\n",
    "###################end code for Task 3-b"
   ]
  },
  {
   "cell_type": "markdown",
   "metadata": {},
   "source": [
    "## Grading "
   ]
  },
  {
   "cell_type": "markdown",
   "metadata": {},
   "source": [
    "<b>[05 points] Follow the Rules</b> \n",
    "\n",
    "\n",
    "<b>[35 points] Task 1:</b>  \n",
    "\n",
    "    [10 points] Task 1-a: Determine “k” value from the elbow method\n",
    "\n",
    "    [25 points] Task 1-b: Visualization for K-Means Clustering\n",
    "\n",
    "        [02 points] Task 1-b-1: Split the dataset \n",
    "    \n",
    "        [10 points] Task 1-b-2: Visualize the predicted training vs actual training labels \n",
    "    \n",
    "        [10 points] Task 1-b-3: Visualize the predicted testing vs actual testing labels\n",
    "    \n",
    "        [03 points] Task 1-b-4: Print out a confusion matrix\n",
    "    \n",
    "\n",
    "\n",
    "<b>[45 points] Task 2:</b>  \n",
    "\n",
    "    [35 points] Task 2-a: Find the best Hierarchical Agglomerative Clustering Model\n",
    "\n",
    "    [10 points] Task 2-b: Visualization for Hierarchical Agglomerative Clustering\n",
    "\n",
    "\n",
    "\n",
    "<b>[15 points] Report :</b> \n",
    "Make a 4 min video explaining both the assignment and it's implementation.\n",
    "\n",
    "\n",
    " <b>[20 points] Task 3 (BONUS):</b> \n",
    "\n",
    "    Task 3-a: 10 points\n",
    "\n",
    "    Task 3-b: 10 points"
   ]
  },
  {
   "cell_type": "code",
   "execution_count": null,
   "metadata": {},
   "outputs": [],
   "source": [
    "#References\n",
    "[1] https://medium.com/analytics-vidhya/how-to-determine-the-optimal-k-for-k-means-708505d204eb\n",
    "[2] https://predictivehacks.com/k-means-elbow-method-code-for-python/\n",
    "[3] https://medium.com/@alexstrebeck/training-and-testing-machine-learning-models-e1f27dc9b3cb\n",
    "[4] https://machinelearningmastery.com/principal-component-analysis-for-visualization/\n",
    "[5] https://matplotlib.org/stable/gallery/subplots_axes_and_figures/subplots_demo.html\n",
    "[6] https://medium.com/@kohlishivam5522/understanding-a-classification-report-for-your-machine-learning-model-88815e2ce397"
   ]
  }
 ],
 "metadata": {
  "celltoolbar": "Raw Cell Format",
  "kernelspec": {
   "display_name": "Python 3 (ipykernel)",
   "language": "python",
   "name": "python3"
  },
  "language_info": {
   "codemirror_mode": {
    "name": "ipython",
    "version": 3
   },
   "file_extension": ".py",
   "mimetype": "text/x-python",
   "name": "python",
   "nbconvert_exporter": "python",
   "pygments_lexer": "ipython3",
   "version": "3.9.12"
  }
 },
 "nbformat": 4,
 "nbformat_minor": 1
}
